{
 "cells": [
  {
   "cell_type": "code",
   "execution_count": 1,
   "metadata": {
    "collapsed": true
   },
   "outputs": [],
   "source": [
    "import spacy"
   ]
  },
  {
   "cell_type": "code",
   "execution_count": 5,
   "metadata": {
    "collapsed": true
   },
   "outputs": [],
   "source": [
    "nlp = spacy.load('en')"
   ]
  },
  {
   "cell_type": "code",
   "execution_count": 3,
   "metadata": {
    "collapsed": true
   },
   "outputs": [],
   "source": [
    "import sqlite3\n",
    "import pandas as pd\n",
    "import datetime\n",
    "from textblob import TextBlob"
   ]
  },
  {
   "cell_type": "code",
   "execution_count": 6,
   "metadata": {
    "collapsed": true
   },
   "outputs": [],
   "source": [
    "import matplotlib\n",
    "import numpy as np\n",
    "import matplotlib.pyplot as plt\n",
    "%matplotlib inline  "
   ]
  },
  {
   "cell_type": "code",
   "execution_count": 7,
   "metadata": {
    "collapsed": true
   },
   "outputs": [],
   "source": [
    "conn = sqlite3.connect('chat.db')\n",
    "c = conn.cursor()"
   ]
  },
  {
   "cell_type": "code",
   "execution_count": 8,
   "metadata": {
    "collapsed": true
   },
   "outputs": [],
   "source": [
    "cmd2 = 'SELECT ROWID, text, handle_id, \\\n",
    "            datetime(date + strftime(\\'%s\\',\\'2001-01-01\\'), \\'unixepoch\\') as date_utc \\\n",
    "            FROM message T1 \\\n",
    "            INNER JOIN chat_message_join T2 \\\n",
    "                ON T1.ROWID=T2.message_id \\\n",
    "                AND T1.is_from_me=1\\\n",
    "            ORDER BY T2.chat_ID, T1.date'\n",
    "c.execute(cmd2)\n",
    "all_msg = pd.DataFrame(c.fetchall(), columns=['id','text','sender','time'])"
   ]
  },
  {
   "cell_type": "code",
   "execution_count": 18,
   "metadata": {
    "collapsed": true
   },
   "outputs": [],
   "source": [
    "all_msg.time = pd.to_datetime(all_msg.time)\n",
    "#cutting to just 2017\n",
    "twentyseventeen_msg = all_msg[all_msg.time.dt.year == 2017]\n",
    "all_msg_clean = all_msg[all_msg.time.dt.year > 2015]"
   ]
  },
  {
   "cell_type": "markdown",
   "metadata": {},
   "source": [
    "## iMessages over time"
   ]
  },
  {
   "cell_type": "code",
   "execution_count": 19,
   "metadata": {},
   "outputs": [
    {
     "data": {
      "text/plain": [
       "<matplotlib.axes._subplots.AxesSubplot at 0x11bfcdc50>"
      ]
     },
     "execution_count": 19,
     "metadata": {},
     "output_type": "execute_result"
    },
    {
     "data": {
      "image/png": "[encoded data removed]",
      "text/plain": [
       "<matplotlib.figure.Figure at 0x11c057828>"
      ]
     },
     "metadata": {},
     "output_type": "display_data"
    }
   ],
   "source": [
    "all_msg_clean['id'].groupby(all_msg_clean.time.dt.to_period('M')).count().plot(kind='bar')"
   ]
  },
  {
   "cell_type": "code",
   "execution_count": 21,
   "metadata": {
    "collapsed": true
   },
   "outputs": [],
   "source": [
    "all_msg_clean = all_msg_clean.assign(polarity=pd.Series([TextBlob(text).sentiment.polarity for text in twentyseventeen_msg['text']]))\n",
    "all_msg_clean = all_msg_clean.assign(subjectivity=pd.Series([TextBlob(text).sentiment.subjectivity for text in twentyseventeen_msg['text']]))"
   ]
  },
  {
   "cell_type": "markdown",
   "metadata": {},
   "source": [
    "## Polarity Sentiment"
   ]
  },
  {
   "cell_type": "code",
   "execution_count": 22,
   "metadata": {},
   "outputs": [
    {
     "data": {
      "text/plain": [
       "<matplotlib.axes._subplots.AxesSubplot at 0x11bf0df60>"
      ]
     },
     "execution_count": 22,
     "metadata": {},
     "output_type": "execute_result"
    },
    {
     "data": {
      "image/png": "[encoded data removed]",
      "text/plain": [
       "<matplotlib.figure.Figure at 0x11ba7ada0>"
      ]
     },
     "metadata": {},
     "output_type": "display_data"
    }
   ],
   "source": [
    "all_msg_clean['polarity'].groupby(all_msg_clean.time.dt.to_period('M')).mean().plot(kind='bar')"
   ]
  },
  {
   "cell_type": "markdown",
   "metadata": {},
   "source": [
    "looks like I am on the whole more positive but that I had a real upswing in december but february isn't looking so good"
   ]
  },
  {
   "cell_type": "markdown",
   "metadata": {},
   "source": [
    "## Subjectivity Sentiment"
   ]
  },
  {
   "cell_type": "code",
   "execution_count": 23,
   "metadata": {},
   "outputs": [
    {
     "data": {
      "text/plain": [
       "<matplotlib.axes._subplots.AxesSubplot at 0x11ba60710>"
      ]
     },
     "execution_count": 23,
     "metadata": {},
     "output_type": "execute_result"
    },
    {
     "data": {
      "image/png": "[encoded data removed]",
      "text/plain": [
       "<matplotlib.figure.Figure at 0x11bf0ac18>"
      ]
     },
     "metadata": {},
     "output_type": "display_data"
    }
   ],
   "source": [
    "all_msg_clean['subjectivity'].groupby(all_msg_clean.time.dt.to_period('M')).mean().plot(kind='bar')"
   ]
  },
  {
   "cell_type": "markdown",
   "metadata": {},
   "source": [
    "not sure what to make of this, looks like I have a pretty steady average of speaking from a subjective position (I feel, I think, etc.), I'd need to compare to other people to get a feel for what this means"
   ]
  },
  {
   "cell_type": "markdown",
   "metadata": {},
   "source": [
    "## Using Spacy"
   ]
  },
  {
   "cell_type": "code",
   "execution_count": 26,
   "metadata": {},
   "outputs": [],
   "source": [
    "text_models = [nlp(text) for text in all_msg_clean['text'] ]"
   ]
  },
  {
   "cell_type": "code",
   "execution_count": 75,
   "metadata": {},
   "outputs": [],
   "source": [
    "# for model in text_models:    \n",
    "#     for token in model:\n",
    "#         print(token.text, token.lemma_, token.pos_, token.tag_, token.dep_,\n",
    "#               token.shape_, token.is_alpha, token.is_stop)"
   ]
  },
  {
   "cell_type": "code",
   "execution_count": 41,
   "metadata": {},
   "outputs": [
    {
     "data": {
      "text/plain": [
       "33718"
      ]
     },
     "execution_count": 41,
     "metadata": {},
     "output_type": "execute_result"
    }
   ],
   "source": [
    "from spacy.symbols import nsubj, VERB\n",
    "verbs = []\n",
    "for model in text_models:\n",
    "    for possible_verb in model:\n",
    "        if possible_verb.pos == VERB:\n",
    "            for possible_subject in possible_verb.children:\n",
    "                if possible_subject.dep == nsubj:\n",
    "                    verbs.append(possible_verb)\n",
    "                    break\n",
    "len(verbs)"
   ]
  },
  {
   "cell_type": "code",
   "execution_count": 43,
   "metadata": {},
   "outputs": [
    {
     "data": {
      "text/plain": [
       "22935"
      ]
     },
     "execution_count": 43,
     "metadata": {},
     "output_type": "execute_result"
    }
   ],
   "source": [
    "from spacy.symbols import NOUN\n",
    "nouns = []\n",
    "for model in text_models:\n",
    "    for possible_noun in model:\n",
    "        if possible_noun.pos == NOUN:\n",
    "            nouns.append(possible_noun)\n",
    "            break\n",
    "len(nouns)"
   ]
  },
  {
   "cell_type": "code",
   "execution_count": 45,
   "metadata": {},
   "outputs": [
    {
     "data": {
      "text/plain": [
       "16150"
      ]
     },
     "execution_count": 45,
     "metadata": {},
     "output_type": "execute_result"
    }
   ],
   "source": [
    "from spacy.symbols import ADJ\n",
    "adjectives = []\n",
    "for model in text_models:\n",
    "    for possible_adjective in model:\n",
    "        if possible_adjective.pos == ADJ:\n",
    "            adjectives.append(possible_adjective)\n",
    "            break\n",
    "len(adjectives)"
   ]
  },
  {
   "cell_type": "code",
   "execution_count": 46,
   "metadata": {},
   "outputs": [
    {
     "data": {
      "text/plain": [
       "14820"
      ]
     },
     "execution_count": 46,
     "metadata": {},
     "output_type": "execute_result"
    }
   ],
   "source": [
    "from spacy.symbols import ADV\n",
    "adverbs = []\n",
    "for model in text_models:\n",
    "    for possible_adverb in model:\n",
    "        if possible_adverb.pos == ADV:\n",
    "            adverbs.append(possible_adverb)\n",
    "            break\n",
    "len(adverbs)"
   ]
  },
  {
   "cell_type": "code",
   "execution_count": 47,
   "metadata": {},
   "outputs": [
    {
     "data": {
      "text/plain": [
       "14636"
      ]
     },
     "execution_count": 47,
     "metadata": {},
     "output_type": "execute_result"
    }
   ],
   "source": [
    "from spacy.symbols import ADP\n",
    "prepositions = []\n",
    "for model in text_models:\n",
    "    for possible_preposition in model:\n",
    "        if possible_preposition.pos == ADP:\n",
    "            prepositions.append(possible_preposition)\n",
    "            break\n",
    "len(prepositions)"
   ]
  },
  {
   "cell_type": "code",
   "execution_count": 58,
   "metadata": {},
   "outputs": [
    {
     "data": {
      "text/plain": [
       "'permanent narratives '"
      ]
     },
     "execution_count": 58,
     "metadata": {},
     "output_type": "execute_result"
    }
   ],
   "source": [
    "import random\n",
    "random.sample(adjectives,1)[0].string + random.sample(nouns,1)[0].string"
   ]
  },
  {
   "cell_type": "code",
   "execution_count": 59,
   "metadata": {},
   "outputs": [
    {
     "data": {
      "text/plain": [
       "'harder worriesmet dude '"
      ]
     },
     "execution_count": 59,
     "metadata": {},
     "output_type": "execute_result"
    }
   ],
   "source": [
    "random.sample(adjectives,1)[0].string + random.sample(nouns,1)[0].string + random.sample(verbs,1)[0].string + random.sample(nouns,1)[0].string"
   ]
  },
  {
   "cell_type": "code",
   "execution_count": 60,
   "metadata": {},
   "outputs": [
    {
     "data": {
      "text/plain": [
       "'my guy more spending alts '"
      ]
     },
     "execution_count": 60,
     "metadata": {},
     "output_type": "execute_result"
    }
   ],
   "source": [
    "random.sample(adjectives,1)[0].string + random.sample(nouns,1)[0].string + random.sample(adjectives,1)[0].string + random.sample(verbs,1)[0].string + random.sample(nouns,1)[0].string"
   ]
  },
  {
   "cell_type": "code",
   "execution_count": 61,
   "metadata": {},
   "outputs": [
    {
     "data": {
      "text/plain": [
       "'your cab get noodles'"
      ]
     },
     "execution_count": 61,
     "metadata": {},
     "output_type": "execute_result"
    }
   ],
   "source": [
    "random.sample(adjectives,1)[0].string + random.sample(nouns,1)[0].string + random.sample(verbs,1)[0].string + random.sample(nouns,1)[0].string"
   ]
  },
  {
   "cell_type": "code",
   "execution_count": 62,
   "metadata": {},
   "outputs": [
    {
     "data": {
      "text/plain": [
       "'only library great wondering conduit '"
      ]
     },
     "execution_count": 62,
     "metadata": {},
     "output_type": "execute_result"
    }
   ],
   "source": [
    "random.sample(adjectives,1)[0].string + random.sample(nouns,1)[0].string + random.sample(adjectives,1)[0].string + random.sample(verbs,1)[0].string + random.sample(nouns,1)[0].string"
   ]
  },
  {
   "cell_type": "code",
   "execution_count": 63,
   "metadata": {},
   "outputs": [
    {
     "data": {
      "text/plain": [
       "'weirdsoftball real means assumptions '"
      ]
     },
     "execution_count": 63,
     "metadata": {},
     "output_type": "execute_result"
    }
   ],
   "source": [
    "random.sample(adjectives,1)[0].string + random.sample(nouns,1)[0].string + random.sample(adjectives,1)[0].string + random.sample(verbs,1)[0].string + random.sample(nouns,1)[0].string"
   ]
  },
  {
   "cell_type": "code",
   "execution_count": 64,
   "metadata": {},
   "outputs": [
    {
     "data": {
      "text/plain": [
       "'smartstorm modern wish aaaaaah'"
      ]
     },
     "execution_count": 64,
     "metadata": {},
     "output_type": "execute_result"
    }
   ],
   "source": [
    "random.sample(adjectives,1)[0].string + random.sample(nouns,1)[0].string + random.sample(adjectives,1)[0].string + random.sample(verbs,1)[0].string + random.sample(nouns,1)[0].string"
   ]
  },
  {
   "cell_type": "code",
   "execution_count": 65,
   "metadata": {},
   "outputs": [
    {
     "data": {
      "text/plain": [
       "\"whatever parents sad 'm pickles \""
      ]
     },
     "execution_count": 65,
     "metadata": {},
     "output_type": "execute_result"
    }
   ],
   "source": [
    "random.sample(adjectives,1)[0].string + random.sample(nouns,1)[0].string + random.sample(adjectives,1)[0].string + random.sample(verbs,1)[0].string + random.sample(nouns,1)[0].string"
   ]
  },
  {
   "cell_type": "code",
   "execution_count": 67,
   "metadata": {},
   "outputs": [
    {
     "data": {
      "text/plain": [
       "'fake dinner only was what '"
      ]
     },
     "execution_count": 67,
     "metadata": {},
     "output_type": "execute_result"
    }
   ],
   "source": [
    "random.sample(adjectives,1)[0].string + random.sample(nouns,1)[0].string + random.sample(adjectives,1)[0].string + random.sample(verbs,1)[0].string + random.sample(nouns,1)[0].string"
   ]
  },
  {
   "cell_type": "code",
   "execution_count": 70,
   "metadata": {},
   "outputs": [
    {
     "data": {
      "text/plain": [
       "'good food autocorrect is lethargy '"
      ]
     },
     "execution_count": 70,
     "metadata": {},
     "output_type": "execute_result"
    }
   ],
   "source": [
    "random.sample(adjectives,1)[0].string + random.sample(nouns,1)[0].string + random.sample(adjectives,1)[0].string + random.sample(verbs,1)[0].string + random.sample(nouns,1)[0].string"
   ]
  },
  {
   "cell_type": "code",
   "execution_count": 73,
   "metadata": {},
   "outputs": [
    {
     "name": "stdout",
     "output_type": "stream",
     "text": [
      "american chaos much think cheese\n",
      "nooooomeditation about sounds babette\n",
      "young whoopsbig see agony\n",
      "readyreedieaaahliked bet \n",
      "my mussels trueis sims \n",
      "coldflight late staying friends \n",
      "hot someone addicted got flight \n",
      "anxiousbed sadthinking text \n",
      "deep ghostbustersparanoid 's personhood \n",
      "cool dude my 's deals\n"
     ]
    }
   ],
   "source": [
    "print(random.sample(adjectives,1)[0].string + random.sample(nouns,1)[0].string + random.sample(adjectives,1)[0].string + random.sample(verbs,1)[0].string + random.sample(nouns,1)[0].string + '\\n' + \n",
    "random.sample(adjectives,1)[0].string + random.sample(nouns,1)[0].string + random.sample(adjectives,1)[0].string + random.sample(verbs,1)[0].string + random.sample(nouns,1)[0].string + '\\n' + \n",
    "random.sample(adjectives,1)[0].string + random.sample(nouns,1)[0].string + random.sample(adjectives,1)[0].string + random.sample(verbs,1)[0].string + random.sample(nouns,1)[0].string + '\\n' + \n",
    "random.sample(adjectives,1)[0].string + random.sample(nouns,1)[0].string + random.sample(adjectives,1)[0].string + random.sample(verbs,1)[0].string + random.sample(nouns,1)[0].string + '\\n' + \n",
    "random.sample(adjectives,1)[0].string + random.sample(nouns,1)[0].string + random.sample(adjectives,1)[0].string + random.sample(verbs,1)[0].string + random.sample(nouns,1)[0].string + '\\n' + \n",
    "random.sample(adjectives,1)[0].string + random.sample(nouns,1)[0].string + random.sample(adjectives,1)[0].string + random.sample(verbs,1)[0].string + random.sample(nouns,1)[0].string + '\\n' + \n",
    "random.sample(adjectives,1)[0].string + random.sample(nouns,1)[0].string + random.sample(adjectives,1)[0].string + random.sample(verbs,1)[0].string + random.sample(nouns,1)[0].string + '\\n' + \n",
    "random.sample(adjectives,1)[0].string + random.sample(nouns,1)[0].string + random.sample(adjectives,1)[0].string + random.sample(verbs,1)[0].string + random.sample(nouns,1)[0].string + '\\n' + \n",
    "random.sample(adjectives,1)[0].string + random.sample(nouns,1)[0].string + random.sample(adjectives,1)[0].string + random.sample(verbs,1)[0].string + random.sample(nouns,1)[0].string + '\\n' + \n",
    "random.sample(adjectives,1)[0].string + random.sample(nouns,1)[0].string + random.sample(adjectives,1)[0].string + random.sample(verbs,1)[0].string + random.sample(nouns,1)[0].string)\n"
   ]
  },
  {
   "cell_type": "code",
   "execution_count": 74,
   "metadata": {},
   "outputs": [
    {
     "name": "stdout",
     "output_type": "stream",
     "text": [
      "same pelemy has brie\n",
      "my sense weird got zach\n",
      "arvixethousands nervous been haircut \n",
      "your tonight white be lipstick\n",
      "glad typing interesting have weeks \n",
      "my https://twitter.com/prozdkp/status/864602108083023872goodlooking time \n",
      "which shows most seem cardamom \n",
      "which self earlier vom rating \n",
      "funglass your want omg \n",
      "many dinner omggoing 🔜\n"
     ]
    }
   ],
   "source": [
    "print(random.sample(adjectives,1)[0].string + random.sample(nouns,1)[0].string + random.sample(adjectives,1)[0].string + random.sample(verbs,1)[0].string + random.sample(nouns,1)[0].string + '\\n' + \n",
    "random.sample(adjectives,1)[0].string + random.sample(nouns,1)[0].string + random.sample(adjectives,1)[0].string + random.sample(verbs,1)[0].string + random.sample(nouns,1)[0].string + '\\n' + \n",
    "random.sample(adjectives,1)[0].string + random.sample(nouns,1)[0].string + random.sample(adjectives,1)[0].string + random.sample(verbs,1)[0].string + random.sample(nouns,1)[0].string + '\\n' + \n",
    "random.sample(adjectives,1)[0].string + random.sample(nouns,1)[0].string + random.sample(adjectives,1)[0].string + random.sample(verbs,1)[0].string + random.sample(nouns,1)[0].string + '\\n' + \n",
    "random.sample(adjectives,1)[0].string + random.sample(nouns,1)[0].string + random.sample(adjectives,1)[0].string + random.sample(verbs,1)[0].string + random.sample(nouns,1)[0].string + '\\n' + \n",
    "random.sample(adjectives,1)[0].string + random.sample(nouns,1)[0].string + random.sample(adjectives,1)[0].string + random.sample(verbs,1)[0].string + random.sample(nouns,1)[0].string + '\\n' + \n",
    "random.sample(adjectives,1)[0].string + random.sample(nouns,1)[0].string + random.sample(adjectives,1)[0].string + random.sample(verbs,1)[0].string + random.sample(nouns,1)[0].string + '\\n' + \n",
    "random.sample(adjectives,1)[0].string + random.sample(nouns,1)[0].string + random.sample(adjectives,1)[0].string + random.sample(verbs,1)[0].string + random.sample(nouns,1)[0].string + '\\n' + \n",
    "random.sample(adjectives,1)[0].string + random.sample(nouns,1)[0].string + random.sample(adjectives,1)[0].string + random.sample(verbs,1)[0].string + random.sample(nouns,1)[0].string + '\\n' + \n",
    "random.sample(adjectives,1)[0].string + random.sample(nouns,1)[0].string + random.sample(adjectives,1)[0].string + random.sample(verbs,1)[0].string + random.sample(nouns,1)[0].string)\n"
   ]
  }
 ],
 "metadata": {
  "kernelspec": {
   "display_name": "Python [conda root]",
   "language": "python",
   "name": "conda-root-py"
  },
  "language_info": {
   "codemirror_mode": {
    "name": "ipython",
    "version": 3
   },
   "file_extension": ".py",
   "mimetype": "text/x-python",
   "name": "python",
   "nbconvert_exporter": "python",
   "pygments_lexer": "ipython3",
   "version": "3.5.3"
  }
 },
 "nbformat": 4,
 "nbformat_minor": 2
}
